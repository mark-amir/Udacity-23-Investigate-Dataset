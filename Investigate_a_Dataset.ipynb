{
 "cells": [
  {
   "cell_type": "markdown",
   "metadata": {},
   "source": [
    "# Project: Investigate a Dataset - [tmdb-movies]\n",
    "\n",
    "## Table of Contents\n",
    "<ul>\n",
    "<li><a href=\"#intro\">Introduction</a></li>\n",
    "<li><a href=\"#wrangling\">Data Wrangling</a></li>\n",
    "<li><a href=\"#eda\">Exploratory Data Analysis</a></li>\n",
    "<li><a href=\"#conclusions\">Conclusions</a></li>\n",
    "</ul>"
   ]
  },
  {
   "cell_type": "markdown",
   "metadata": {},
   "source": [
    "<a id='intro'></a>\n",
    "## Introduction\n",
    "\n",
    "> **Hello**, welcome to our project \"Investigate a dataset\" and our dataset in this project is about \"Movies\" ...\n",
    "Yeah , I know that we all enjoy watching movies and everyone has its prefered genre . \n",
    "\n",
    "### Dataset Description \n",
    "\n",
    "> Let's take a deep look about this dataset ...\n",
    "This data set contains information about 10,000 movies collected from The Movie Database (TMDb):\n",
    "\n",
    ">1) There are some columns, like ‘cast’ and ‘genres’, contain multiple values separated by pipe (|) characters\n",
    "\n",
    ">2) The final two columns ending with “_adj” show the budget and revenue of the associated movie in terms of 2010 dollars, accounting for inflation over time.\n",
    "\n",
    ">3) The dataset has 10866 rows and 21 columns with total values 228,186 values !!\n",
    "\n",
    "> Let's take another deep look about the columns: <br>\n",
    "> **id**  = represents the unique general identifier of each film <br>\n",
    "\n",
    "\n",
    "> **imdb_id** = represents the unique identifier of each film of Internet Movie Database **(imdb)** <br>\n",
    "\n",
    "> **popularity** = represents the popularity of the film <br>\n",
    "\n",
    "> **budget** = represents the amount of money is needed for the film's production <br>\n",
    "\n",
    "> **revenue** = represents the amount of money is that the film earned <br>\n",
    "\n",
    "> **original title** = represents the original name of the film <br>\n",
    "\n",
    "> **homepage** = represents the official website pf the film's show <br>\n",
    "\n",
    "> **director** = represents the name of the director who made the film <br>\n",
    "\n",
    "> **tagline** = represents a short sentence tht is used to promote the film's show <br>\n",
    "\n",
    "> **overview** = represents a brief summary about the film <br>\n",
    "\n",
    "> **runtime** = represents the duration of the film <br>\n",
    "\n",
    "> **genres** = represents the type of the film <br>\n",
    "\n",
    "\n",
    "> production companies = represents the company that produces the film <br>\n",
    "\n",
    "> **released date** = represents the specific day, month, year when the film became available to the public <br>\n",
    "\n",
    "> **vote count** = represents the number of votes of the film <br>\n",
    "\n",
    "> **vote average** = represents the average rating of the film <br>\n",
    "\n",
    "> **release year** = represents the year when the movie was released <br>\n",
    "\n",
    ">  The final two columns ending with **“_adj”** show the budget and revenue of the associated movie in terms of 2010 dollars, accounting for inflation over time.\n",
    "\n",
    "\n",
    "\n",
    "### Question(s) for Analysis\n",
    "> **First question** : <br>\n",
    "  As The year 2000 was the beginning of a **new millennium** and the appearance of new technologies : <br>\n",
    "  *Who is the most successful director between (2000 : 2015) ?*\n",
    "\n",
    "> **Second question** : What is the most prefered genre over the years ?\n",
    "  \n",
    "> **Third question** : Which production companies have produced the most movies?\n",
    "\n",
    "> **Fourth question** : Is there a correlation between budget and revenue ?\n",
    "\n",
    "> **Fifth question** : Which film is the most successful ?\n"
   ]
  },
  {
   "cell_type": "code",
   "execution_count": 1,
   "metadata": {},
   "outputs": [],
   "source": [
    "#importing libraries to be able to use them in investigating \n",
    "import numpy as np\n",
    "import pandas as pd\n",
    "import matplotlib.pyplot as plt\n",
    "import seaborn as sns\n",
    "% matplotlib inline"
   ]
  },
  {
   "cell_type": "code",
   "execution_count": 4,
   "metadata": {},
   "outputs": [
    {
     "name": "stdout",
     "output_type": "stream",
     "text": [
      "Collecting pandas==0.25.0\n",
      "\u001b[?25l  Downloading https://files.pythonhosted.org/packages/1d/9a/7eb9952f4b4d73fbd75ad1d5d6112f407e695957444cb695cbb3cdab918a/pandas-0.25.0-cp36-cp36m-manylinux1_x86_64.whl (10.5MB)\n",
      "\u001b[K    100% |████████████████████████████████| 10.5MB 4.0MB/s eta 0:00:01\n",
      "\u001b[?25hRequirement already satisfied, skipping upgrade: python-dateutil>=2.6.1 in /opt/conda/lib/python3.6/site-packages (from pandas==0.25.0) (2.6.1)\n",
      "Requirement already satisfied, skipping upgrade: pytz>=2017.2 in /opt/conda/lib/python3.6/site-packages (from pandas==0.25.0) (2017.3)\n",
      "Collecting numpy>=1.13.3 (from pandas==0.25.0)\n",
      "\u001b[?25l  Downloading https://files.pythonhosted.org/packages/45/b2/6c7545bb7a38754d63048c7696804a0d947328125d81bf12beaa692c3ae3/numpy-1.19.5-cp36-cp36m-manylinux1_x86_64.whl (13.4MB)\n",
      "\u001b[K    100% |████████████████████████████████| 13.4MB 1.8MB/s eta 0:00:01\n",
      "\u001b[?25hRequirement already satisfied, skipping upgrade: six>=1.5 in /opt/conda/lib/python3.6/site-packages (from python-dateutil>=2.6.1->pandas==0.25.0) (1.11.0)\n",
      "\u001b[31mtensorflow 1.3.0 requires tensorflow-tensorboard<0.2.0,>=0.1.0, which is not installed.\u001b[0m\n",
      "Installing collected packages: numpy, pandas\n",
      "  Found existing installation: numpy 1.12.1\n",
      "    Uninstalling numpy-1.12.1:\n",
      "      Successfully uninstalled numpy-1.12.1\n",
      "  Found existing installation: pandas 0.23.3\n",
      "    Uninstalling pandas-0.23.3:\n",
      "      Successfully uninstalled pandas-0.23.3\n",
      "Successfully installed numpy-1.19.5 pandas-0.25.0\n"
     ]
    }
   ],
   "source": [
    "# Upgrade pandas to use dataframe.explode() function. \n",
    "!pip install --upgrade pandas==0.25.0"
   ]
  },
  {
   "cell_type": "markdown",
   "metadata": {},
   "source": [
    "<a id='wrangling'></a>\n",
    "## Data Wrangling"
   ]
  },
  {
   "cell_type": "code",
   "execution_count": 2,
   "metadata": {},
   "outputs": [
    {
     "data": {
      "text/html": [
       "<div>\n",
       "<style scoped>\n",
       "    .dataframe tbody tr th:only-of-type {\n",
       "        vertical-align: middle;\n",
       "    }\n",
       "\n",
       "    .dataframe tbody tr th {\n",
       "        vertical-align: top;\n",
       "    }\n",
       "\n",
       "    .dataframe thead th {\n",
       "        text-align: right;\n",
       "    }\n",
       "</style>\n",
       "<table border=\"1\" class=\"dataframe\">\n",
       "  <thead>\n",
       "    <tr style=\"text-align: right;\">\n",
       "      <th></th>\n",
       "      <th>id</th>\n",
       "      <th>imdb_id</th>\n",
       "      <th>popularity</th>\n",
       "      <th>budget</th>\n",
       "      <th>revenue</th>\n",
       "      <th>original_title</th>\n",
       "      <th>cast</th>\n",
       "      <th>homepage</th>\n",
       "      <th>director</th>\n",
       "      <th>tagline</th>\n",
       "      <th>...</th>\n",
       "      <th>overview</th>\n",
       "      <th>runtime</th>\n",
       "      <th>genres</th>\n",
       "      <th>production_companies</th>\n",
       "      <th>release_date</th>\n",
       "      <th>vote_count</th>\n",
       "      <th>vote_average</th>\n",
       "      <th>release_year</th>\n",
       "      <th>budget_adj</th>\n",
       "      <th>revenue_adj</th>\n",
       "    </tr>\n",
       "  </thead>\n",
       "  <tbody>\n",
       "    <tr>\n",
       "      <th>0</th>\n",
       "      <td>135397</td>\n",
       "      <td>tt0369610</td>\n",
       "      <td>32.985763</td>\n",
       "      <td>150000000</td>\n",
       "      <td>1513528810</td>\n",
       "      <td>Jurassic World</td>\n",
       "      <td>Chris Pratt|Bryce Dallas Howard|Irrfan Khan|Vi...</td>\n",
       "      <td>http://www.jurassicworld.com/</td>\n",
       "      <td>Colin Trevorrow</td>\n",
       "      <td>The park is open.</td>\n",
       "      <td>...</td>\n",
       "      <td>Twenty-two years after the events of Jurassic ...</td>\n",
       "      <td>124</td>\n",
       "      <td>Action|Adventure|Science Fiction|Thriller</td>\n",
       "      <td>Universal Studios|Amblin Entertainment|Legenda...</td>\n",
       "      <td>6/9/15</td>\n",
       "      <td>5562</td>\n",
       "      <td>6.5</td>\n",
       "      <td>2015</td>\n",
       "      <td>1.379999e+08</td>\n",
       "      <td>1.392446e+09</td>\n",
       "    </tr>\n",
       "    <tr>\n",
       "      <th>1</th>\n",
       "      <td>76341</td>\n",
       "      <td>tt1392190</td>\n",
       "      <td>28.419936</td>\n",
       "      <td>150000000</td>\n",
       "      <td>378436354</td>\n",
       "      <td>Mad Max: Fury Road</td>\n",
       "      <td>Tom Hardy|Charlize Theron|Hugh Keays-Byrne|Nic...</td>\n",
       "      <td>http://www.madmaxmovie.com/</td>\n",
       "      <td>George Miller</td>\n",
       "      <td>What a Lovely Day.</td>\n",
       "      <td>...</td>\n",
       "      <td>An apocalyptic story set in the furthest reach...</td>\n",
       "      <td>120</td>\n",
       "      <td>Action|Adventure|Science Fiction|Thriller</td>\n",
       "      <td>Village Roadshow Pictures|Kennedy Miller Produ...</td>\n",
       "      <td>5/13/15</td>\n",
       "      <td>6185</td>\n",
       "      <td>7.1</td>\n",
       "      <td>2015</td>\n",
       "      <td>1.379999e+08</td>\n",
       "      <td>3.481613e+08</td>\n",
       "    </tr>\n",
       "    <tr>\n",
       "      <th>2</th>\n",
       "      <td>262500</td>\n",
       "      <td>tt2908446</td>\n",
       "      <td>13.112507</td>\n",
       "      <td>110000000</td>\n",
       "      <td>295238201</td>\n",
       "      <td>Insurgent</td>\n",
       "      <td>Shailene Woodley|Theo James|Kate Winslet|Ansel...</td>\n",
       "      <td>http://www.thedivergentseries.movie/#insurgent</td>\n",
       "      <td>Robert Schwentke</td>\n",
       "      <td>One Choice Can Destroy You</td>\n",
       "      <td>...</td>\n",
       "      <td>Beatrice Prior must confront her inner demons ...</td>\n",
       "      <td>119</td>\n",
       "      <td>Adventure|Science Fiction|Thriller</td>\n",
       "      <td>Summit Entertainment|Mandeville Films|Red Wago...</td>\n",
       "      <td>3/18/15</td>\n",
       "      <td>2480</td>\n",
       "      <td>6.3</td>\n",
       "      <td>2015</td>\n",
       "      <td>1.012000e+08</td>\n",
       "      <td>2.716190e+08</td>\n",
       "    </tr>\n",
       "    <tr>\n",
       "      <th>3</th>\n",
       "      <td>140607</td>\n",
       "      <td>tt2488496</td>\n",
       "      <td>11.173104</td>\n",
       "      <td>200000000</td>\n",
       "      <td>2068178225</td>\n",
       "      <td>Star Wars: The Force Awakens</td>\n",
       "      <td>Harrison Ford|Mark Hamill|Carrie Fisher|Adam D...</td>\n",
       "      <td>http://www.starwars.com/films/star-wars-episod...</td>\n",
       "      <td>J.J. Abrams</td>\n",
       "      <td>Every generation has a story.</td>\n",
       "      <td>...</td>\n",
       "      <td>Thirty years after defeating the Galactic Empi...</td>\n",
       "      <td>136</td>\n",
       "      <td>Action|Adventure|Science Fiction|Fantasy</td>\n",
       "      <td>Lucasfilm|Truenorth Productions|Bad Robot</td>\n",
       "      <td>12/15/15</td>\n",
       "      <td>5292</td>\n",
       "      <td>7.5</td>\n",
       "      <td>2015</td>\n",
       "      <td>1.839999e+08</td>\n",
       "      <td>1.902723e+09</td>\n",
       "    </tr>\n",
       "    <tr>\n",
       "      <th>4</th>\n",
       "      <td>168259</td>\n",
       "      <td>tt2820852</td>\n",
       "      <td>9.335014</td>\n",
       "      <td>190000000</td>\n",
       "      <td>1506249360</td>\n",
       "      <td>Furious 7</td>\n",
       "      <td>Vin Diesel|Paul Walker|Jason Statham|Michelle ...</td>\n",
       "      <td>http://www.furious7.com/</td>\n",
       "      <td>James Wan</td>\n",
       "      <td>Vengeance Hits Home</td>\n",
       "      <td>...</td>\n",
       "      <td>Deckard Shaw seeks revenge against Dominic Tor...</td>\n",
       "      <td>137</td>\n",
       "      <td>Action|Crime|Thriller</td>\n",
       "      <td>Universal Pictures|Original Film|Media Rights ...</td>\n",
       "      <td>4/1/15</td>\n",
       "      <td>2947</td>\n",
       "      <td>7.3</td>\n",
       "      <td>2015</td>\n",
       "      <td>1.747999e+08</td>\n",
       "      <td>1.385749e+09</td>\n",
       "    </tr>\n",
       "  </tbody>\n",
       "</table>\n",
       "<p>5 rows × 21 columns</p>\n",
       "</div>"
      ],
      "text/plain": [
       "       id    imdb_id  popularity     budget     revenue  \\\n",
       "0  135397  tt0369610   32.985763  150000000  1513528810   \n",
       "1   76341  tt1392190   28.419936  150000000   378436354   \n",
       "2  262500  tt2908446   13.112507  110000000   295238201   \n",
       "3  140607  tt2488496   11.173104  200000000  2068178225   \n",
       "4  168259  tt2820852    9.335014  190000000  1506249360   \n",
       "\n",
       "                 original_title  \\\n",
       "0                Jurassic World   \n",
       "1            Mad Max: Fury Road   \n",
       "2                     Insurgent   \n",
       "3  Star Wars: The Force Awakens   \n",
       "4                     Furious 7   \n",
       "\n",
       "                                                cast  \\\n",
       "0  Chris Pratt|Bryce Dallas Howard|Irrfan Khan|Vi...   \n",
       "1  Tom Hardy|Charlize Theron|Hugh Keays-Byrne|Nic...   \n",
       "2  Shailene Woodley|Theo James|Kate Winslet|Ansel...   \n",
       "3  Harrison Ford|Mark Hamill|Carrie Fisher|Adam D...   \n",
       "4  Vin Diesel|Paul Walker|Jason Statham|Michelle ...   \n",
       "\n",
       "                                            homepage          director  \\\n",
       "0                      http://www.jurassicworld.com/   Colin Trevorrow   \n",
       "1                        http://www.madmaxmovie.com/     George Miller   \n",
       "2     http://www.thedivergentseries.movie/#insurgent  Robert Schwentke   \n",
       "3  http://www.starwars.com/films/star-wars-episod...       J.J. Abrams   \n",
       "4                           http://www.furious7.com/         James Wan   \n",
       "\n",
       "                         tagline      ...       \\\n",
       "0              The park is open.      ...        \n",
       "1             What a Lovely Day.      ...        \n",
       "2     One Choice Can Destroy You      ...        \n",
       "3  Every generation has a story.      ...        \n",
       "4            Vengeance Hits Home      ...        \n",
       "\n",
       "                                            overview runtime  \\\n",
       "0  Twenty-two years after the events of Jurassic ...     124   \n",
       "1  An apocalyptic story set in the furthest reach...     120   \n",
       "2  Beatrice Prior must confront her inner demons ...     119   \n",
       "3  Thirty years after defeating the Galactic Empi...     136   \n",
       "4  Deckard Shaw seeks revenge against Dominic Tor...     137   \n",
       "\n",
       "                                      genres  \\\n",
       "0  Action|Adventure|Science Fiction|Thriller   \n",
       "1  Action|Adventure|Science Fiction|Thriller   \n",
       "2         Adventure|Science Fiction|Thriller   \n",
       "3   Action|Adventure|Science Fiction|Fantasy   \n",
       "4                      Action|Crime|Thriller   \n",
       "\n",
       "                                production_companies release_date vote_count  \\\n",
       "0  Universal Studios|Amblin Entertainment|Legenda...       6/9/15       5562   \n",
       "1  Village Roadshow Pictures|Kennedy Miller Produ...      5/13/15       6185   \n",
       "2  Summit Entertainment|Mandeville Films|Red Wago...      3/18/15       2480   \n",
       "3          Lucasfilm|Truenorth Productions|Bad Robot     12/15/15       5292   \n",
       "4  Universal Pictures|Original Film|Media Rights ...       4/1/15       2947   \n",
       "\n",
       "   vote_average  release_year    budget_adj   revenue_adj  \n",
       "0           6.5          2015  1.379999e+08  1.392446e+09  \n",
       "1           7.1          2015  1.379999e+08  3.481613e+08  \n",
       "2           6.3          2015  1.012000e+08  2.716190e+08  \n",
       "3           7.5          2015  1.839999e+08  1.902723e+09  \n",
       "4           7.3          2015  1.747999e+08  1.385749e+09  \n",
       "\n",
       "[5 rows x 21 columns]"
      ]
     },
     "execution_count": 2,
     "metadata": {},
     "output_type": "execute_result"
    }
   ],
   "source": [
    "#Here we upload & use the \"read_csv\" function to be able to use our data set\n",
    "df = pd.read_csv(\"tmdb-movies.csv\")\n",
    "#Then we use \".head()\" method to know the content of the data set \"what the columns and rows talk about\"\n",
    "df.head()"
   ]
  },
  {
   "cell_type": "code",
   "execution_count": 3,
   "metadata": {},
   "outputs": [
    {
     "data": {
      "text/plain": [
       "(10866, 21)"
      ]
     },
     "execution_count": 3,
     "metadata": {},
     "output_type": "execute_result"
    }
   ],
   "source": [
    "df.shape"
   ]
  },
  {
   "cell_type": "markdown",
   "metadata": {},
   "source": [
    "> We use **.shape** method to know the length of dimensions of the data set , <br>\n",
    "this method returns a tuple that includes 2 values : (**val1**, **val2**)<br>\n",
    "**val1** =====> represents the value of **rows no.**<br>\n",
    "**val2** =====> represents the value of **columns no.**"
   ]
  },
  {
   "cell_type": "markdown",
   "metadata": {},
   "source": [
    "### Data Cleaning\n",
    "> **ToDo**: Make sure that you keep your reader informed on the steps that you are taking in your investigation. Follow every code cell, or every set of related code cells, with a markdown cell to describe to the reader what was found in the preceding cell(s). Try to make it so that the reader can then understand what they will be seeing in the following cell(s)."
   ]
  },
  {
   "cell_type": "code",
   "execution_count": 4,
   "metadata": {},
   "outputs": [
    {
     "data": {
      "text/html": [
       "<div>\n",
       "<style scoped>\n",
       "    .dataframe tbody tr th:only-of-type {\n",
       "        vertical-align: middle;\n",
       "    }\n",
       "\n",
       "    .dataframe tbody tr th {\n",
       "        vertical-align: top;\n",
       "    }\n",
       "\n",
       "    .dataframe thead th {\n",
       "        text-align: right;\n",
       "    }\n",
       "</style>\n",
       "<table border=\"1\" class=\"dataframe\">\n",
       "  <thead>\n",
       "    <tr style=\"text-align: right;\">\n",
       "      <th></th>\n",
       "      <th>id</th>\n",
       "      <th>popularity</th>\n",
       "      <th>budget</th>\n",
       "      <th>revenue</th>\n",
       "      <th>runtime</th>\n",
       "      <th>vote_count</th>\n",
       "      <th>vote_average</th>\n",
       "      <th>release_year</th>\n",
       "      <th>budget_adj</th>\n",
       "      <th>revenue_adj</th>\n",
       "    </tr>\n",
       "  </thead>\n",
       "  <tbody>\n",
       "    <tr>\n",
       "      <th>count</th>\n",
       "      <td>10866.000000</td>\n",
       "      <td>10866.000000</td>\n",
       "      <td>1.086600e+04</td>\n",
       "      <td>1.086600e+04</td>\n",
       "      <td>10866.000000</td>\n",
       "      <td>10866.000000</td>\n",
       "      <td>10866.000000</td>\n",
       "      <td>10866.000000</td>\n",
       "      <td>1.086600e+04</td>\n",
       "      <td>1.086600e+04</td>\n",
       "    </tr>\n",
       "    <tr>\n",
       "      <th>mean</th>\n",
       "      <td>66064.177434</td>\n",
       "      <td>0.646441</td>\n",
       "      <td>1.462570e+07</td>\n",
       "      <td>3.982332e+07</td>\n",
       "      <td>102.070863</td>\n",
       "      <td>217.389748</td>\n",
       "      <td>5.974922</td>\n",
       "      <td>2001.322658</td>\n",
       "      <td>1.755104e+07</td>\n",
       "      <td>5.136436e+07</td>\n",
       "    </tr>\n",
       "    <tr>\n",
       "      <th>std</th>\n",
       "      <td>92130.136561</td>\n",
       "      <td>1.000185</td>\n",
       "      <td>3.091321e+07</td>\n",
       "      <td>1.170035e+08</td>\n",
       "      <td>31.381405</td>\n",
       "      <td>575.619058</td>\n",
       "      <td>0.935142</td>\n",
       "      <td>12.812941</td>\n",
       "      <td>3.430616e+07</td>\n",
       "      <td>1.446325e+08</td>\n",
       "    </tr>\n",
       "    <tr>\n",
       "      <th>min</th>\n",
       "      <td>5.000000</td>\n",
       "      <td>0.000065</td>\n",
       "      <td>0.000000e+00</td>\n",
       "      <td>0.000000e+00</td>\n",
       "      <td>0.000000</td>\n",
       "      <td>10.000000</td>\n",
       "      <td>1.500000</td>\n",
       "      <td>1960.000000</td>\n",
       "      <td>0.000000e+00</td>\n",
       "      <td>0.000000e+00</td>\n",
       "    </tr>\n",
       "    <tr>\n",
       "      <th>25%</th>\n",
       "      <td>10596.250000</td>\n",
       "      <td>0.207583</td>\n",
       "      <td>0.000000e+00</td>\n",
       "      <td>0.000000e+00</td>\n",
       "      <td>90.000000</td>\n",
       "      <td>17.000000</td>\n",
       "      <td>5.400000</td>\n",
       "      <td>1995.000000</td>\n",
       "      <td>0.000000e+00</td>\n",
       "      <td>0.000000e+00</td>\n",
       "    </tr>\n",
       "    <tr>\n",
       "      <th>50%</th>\n",
       "      <td>20669.000000</td>\n",
       "      <td>0.383856</td>\n",
       "      <td>0.000000e+00</td>\n",
       "      <td>0.000000e+00</td>\n",
       "      <td>99.000000</td>\n",
       "      <td>38.000000</td>\n",
       "      <td>6.000000</td>\n",
       "      <td>2006.000000</td>\n",
       "      <td>0.000000e+00</td>\n",
       "      <td>0.000000e+00</td>\n",
       "    </tr>\n",
       "    <tr>\n",
       "      <th>75%</th>\n",
       "      <td>75610.000000</td>\n",
       "      <td>0.713817</td>\n",
       "      <td>1.500000e+07</td>\n",
       "      <td>2.400000e+07</td>\n",
       "      <td>111.000000</td>\n",
       "      <td>145.750000</td>\n",
       "      <td>6.600000</td>\n",
       "      <td>2011.000000</td>\n",
       "      <td>2.085325e+07</td>\n",
       "      <td>3.369710e+07</td>\n",
       "    </tr>\n",
       "    <tr>\n",
       "      <th>max</th>\n",
       "      <td>417859.000000</td>\n",
       "      <td>32.985763</td>\n",
       "      <td>4.250000e+08</td>\n",
       "      <td>2.781506e+09</td>\n",
       "      <td>900.000000</td>\n",
       "      <td>9767.000000</td>\n",
       "      <td>9.200000</td>\n",
       "      <td>2015.000000</td>\n",
       "      <td>4.250000e+08</td>\n",
       "      <td>2.827124e+09</td>\n",
       "    </tr>\n",
       "  </tbody>\n",
       "</table>\n",
       "</div>"
      ],
      "text/plain": [
       "                  id    popularity        budget       revenue       runtime  \\\n",
       "count   10866.000000  10866.000000  1.086600e+04  1.086600e+04  10866.000000   \n",
       "mean    66064.177434      0.646441  1.462570e+07  3.982332e+07    102.070863   \n",
       "std     92130.136561      1.000185  3.091321e+07  1.170035e+08     31.381405   \n",
       "min         5.000000      0.000065  0.000000e+00  0.000000e+00      0.000000   \n",
       "25%     10596.250000      0.207583  0.000000e+00  0.000000e+00     90.000000   \n",
       "50%     20669.000000      0.383856  0.000000e+00  0.000000e+00     99.000000   \n",
       "75%     75610.000000      0.713817  1.500000e+07  2.400000e+07    111.000000   \n",
       "max    417859.000000     32.985763  4.250000e+08  2.781506e+09    900.000000   \n",
       "\n",
       "         vote_count  vote_average  release_year    budget_adj   revenue_adj  \n",
       "count  10866.000000  10866.000000  10866.000000  1.086600e+04  1.086600e+04  \n",
       "mean     217.389748      5.974922   2001.322658  1.755104e+07  5.136436e+07  \n",
       "std      575.619058      0.935142     12.812941  3.430616e+07  1.446325e+08  \n",
       "min       10.000000      1.500000   1960.000000  0.000000e+00  0.000000e+00  \n",
       "25%       17.000000      5.400000   1995.000000  0.000000e+00  0.000000e+00  \n",
       "50%       38.000000      6.000000   2006.000000  0.000000e+00  0.000000e+00  \n",
       "75%      145.750000      6.600000   2011.000000  2.085325e+07  3.369710e+07  \n",
       "max     9767.000000      9.200000   2015.000000  4.250000e+08  2.827124e+09  "
      ]
     },
     "execution_count": 4,
     "metadata": {},
     "output_type": "execute_result"
    }
   ],
   "source": [
    "#Here we use \".describe()\" to know some statistics information about the data set\n",
    "df.describe()"
   ]
  },
  {
   "cell_type": "code",
   "execution_count": 5,
   "metadata": {
    "scrolled": false
   },
   "outputs": [
    {
     "name": "stdout",
     "output_type": "stream",
     "text": [
      "<class 'pandas.core.frame.DataFrame'>\n",
      "RangeIndex: 10866 entries, 0 to 10865\n",
      "Data columns (total 21 columns):\n",
      "id                      10866 non-null int64\n",
      "imdb_id                 10856 non-null object\n",
      "popularity              10866 non-null float64\n",
      "budget                  10866 non-null int64\n",
      "revenue                 10866 non-null int64\n",
      "original_title          10866 non-null object\n",
      "cast                    10790 non-null object\n",
      "homepage                2936 non-null object\n",
      "director                10822 non-null object\n",
      "tagline                 8042 non-null object\n",
      "keywords                9373 non-null object\n",
      "overview                10862 non-null object\n",
      "runtime                 10866 non-null int64\n",
      "genres                  10843 non-null object\n",
      "production_companies    9836 non-null object\n",
      "release_date            10866 non-null object\n",
      "vote_count              10866 non-null int64\n",
      "vote_average            10866 non-null float64\n",
      "release_year            10866 non-null int64\n",
      "budget_adj              10866 non-null float64\n",
      "revenue_adj             10866 non-null float64\n",
      "dtypes: float64(4), int64(6), object(11)\n",
      "memory usage: 1.7+ MB\n"
     ]
    }
   ],
   "source": [
    "#Here we use \".info()\" to know some information about the data set like : the number of non-null values and the data types of each column.\n",
    "df.info()"
   ]
  },
  {
   "cell_type": "markdown",
   "metadata": {},
   "source": [
    "> Here we discovered that many columns has Null values (missing values) so we're going to seperate them into 2 groups :<br>\n",
    "**Group 1 :** columns which we don't need them to answer questions ===> Delete them <br>\n",
    "**Group 2 :** columns which we need in our analysis but have null values ===> Get rid of these values or modify them"
   ]
  },
  {
   "cell_type": "code",
   "execution_count": 4,
   "metadata": {},
   "outputs": [
    {
     "data": {
      "text/html": [
       "<div>\n",
       "<style scoped>\n",
       "    .dataframe tbody tr th:only-of-type {\n",
       "        vertical-align: middle;\n",
       "    }\n",
       "\n",
       "    .dataframe tbody tr th {\n",
       "        vertical-align: top;\n",
       "    }\n",
       "\n",
       "    .dataframe thead th {\n",
       "        text-align: right;\n",
       "    }\n",
       "</style>\n",
       "<table border=\"1\" class=\"dataframe\">\n",
       "  <thead>\n",
       "    <tr style=\"text-align: right;\">\n",
       "      <th></th>\n",
       "      <th>popularity</th>\n",
       "      <th>budget</th>\n",
       "      <th>revenue</th>\n",
       "      <th>original_title</th>\n",
       "      <th>director</th>\n",
       "      <th>runtime</th>\n",
       "      <th>genres</th>\n",
       "      <th>production_companies</th>\n",
       "      <th>vote_count</th>\n",
       "      <th>vote_average</th>\n",
       "      <th>release_year</th>\n",
       "      <th>budget_adj</th>\n",
       "      <th>revenue_adj</th>\n",
       "    </tr>\n",
       "  </thead>\n",
       "  <tbody>\n",
       "    <tr>\n",
       "      <th>0</th>\n",
       "      <td>32.985763</td>\n",
       "      <td>150000000</td>\n",
       "      <td>1513528810</td>\n",
       "      <td>Jurassic World</td>\n",
       "      <td>Colin Trevorrow</td>\n",
       "      <td>124</td>\n",
       "      <td>Action|Adventure|Science Fiction|Thriller</td>\n",
       "      <td>Universal Studios|Amblin Entertainment|Legenda...</td>\n",
       "      <td>5562</td>\n",
       "      <td>6.5</td>\n",
       "      <td>2015</td>\n",
       "      <td>1.379999e+08</td>\n",
       "      <td>1.392446e+09</td>\n",
       "    </tr>\n",
       "    <tr>\n",
       "      <th>1</th>\n",
       "      <td>28.419936</td>\n",
       "      <td>150000000</td>\n",
       "      <td>378436354</td>\n",
       "      <td>Mad Max: Fury Road</td>\n",
       "      <td>George Miller</td>\n",
       "      <td>120</td>\n",
       "      <td>Action|Adventure|Science Fiction|Thriller</td>\n",
       "      <td>Village Roadshow Pictures|Kennedy Miller Produ...</td>\n",
       "      <td>6185</td>\n",
       "      <td>7.1</td>\n",
       "      <td>2015</td>\n",
       "      <td>1.379999e+08</td>\n",
       "      <td>3.481613e+08</td>\n",
       "    </tr>\n",
       "    <tr>\n",
       "      <th>2</th>\n",
       "      <td>13.112507</td>\n",
       "      <td>110000000</td>\n",
       "      <td>295238201</td>\n",
       "      <td>Insurgent</td>\n",
       "      <td>Robert Schwentke</td>\n",
       "      <td>119</td>\n",
       "      <td>Adventure|Science Fiction|Thriller</td>\n",
       "      <td>Summit Entertainment|Mandeville Films|Red Wago...</td>\n",
       "      <td>2480</td>\n",
       "      <td>6.3</td>\n",
       "      <td>2015</td>\n",
       "      <td>1.012000e+08</td>\n",
       "      <td>2.716190e+08</td>\n",
       "    </tr>\n",
       "    <tr>\n",
       "      <th>3</th>\n",
       "      <td>11.173104</td>\n",
       "      <td>200000000</td>\n",
       "      <td>2068178225</td>\n",
       "      <td>Star Wars: The Force Awakens</td>\n",
       "      <td>J.J. Abrams</td>\n",
       "      <td>136</td>\n",
       "      <td>Action|Adventure|Science Fiction|Fantasy</td>\n",
       "      <td>Lucasfilm|Truenorth Productions|Bad Robot</td>\n",
       "      <td>5292</td>\n",
       "      <td>7.5</td>\n",
       "      <td>2015</td>\n",
       "      <td>1.839999e+08</td>\n",
       "      <td>1.902723e+09</td>\n",
       "    </tr>\n",
       "    <tr>\n",
       "      <th>4</th>\n",
       "      <td>9.335014</td>\n",
       "      <td>190000000</td>\n",
       "      <td>1506249360</td>\n",
       "      <td>Furious 7</td>\n",
       "      <td>James Wan</td>\n",
       "      <td>137</td>\n",
       "      <td>Action|Crime|Thriller</td>\n",
       "      <td>Universal Pictures|Original Film|Media Rights ...</td>\n",
       "      <td>2947</td>\n",
       "      <td>7.3</td>\n",
       "      <td>2015</td>\n",
       "      <td>1.747999e+08</td>\n",
       "      <td>1.385749e+09</td>\n",
       "    </tr>\n",
       "  </tbody>\n",
       "</table>\n",
       "</div>"
      ],
      "text/plain": [
       "   popularity     budget     revenue                original_title  \\\n",
       "0   32.985763  150000000  1513528810                Jurassic World   \n",
       "1   28.419936  150000000   378436354            Mad Max: Fury Road   \n",
       "2   13.112507  110000000   295238201                     Insurgent   \n",
       "3   11.173104  200000000  2068178225  Star Wars: The Force Awakens   \n",
       "4    9.335014  190000000  1506249360                     Furious 7   \n",
       "\n",
       "           director  runtime                                     genres  \\\n",
       "0   Colin Trevorrow      124  Action|Adventure|Science Fiction|Thriller   \n",
       "1     George Miller      120  Action|Adventure|Science Fiction|Thriller   \n",
       "2  Robert Schwentke      119         Adventure|Science Fiction|Thriller   \n",
       "3       J.J. Abrams      136   Action|Adventure|Science Fiction|Fantasy   \n",
       "4         James Wan      137                      Action|Crime|Thriller   \n",
       "\n",
       "                                production_companies  vote_count  \\\n",
       "0  Universal Studios|Amblin Entertainment|Legenda...        5562   \n",
       "1  Village Roadshow Pictures|Kennedy Miller Produ...        6185   \n",
       "2  Summit Entertainment|Mandeville Films|Red Wago...        2480   \n",
       "3          Lucasfilm|Truenorth Productions|Bad Robot        5292   \n",
       "4  Universal Pictures|Original Film|Media Rights ...        2947   \n",
       "\n",
       "   vote_average  release_year    budget_adj   revenue_adj  \n",
       "0           6.5          2015  1.379999e+08  1.392446e+09  \n",
       "1           7.1          2015  1.379999e+08  3.481613e+08  \n",
       "2           6.3          2015  1.012000e+08  2.716190e+08  \n",
       "3           7.5          2015  1.839999e+08  1.902723e+09  \n",
       "4           7.3          2015  1.747999e+08  1.385749e+09  "
      ]
     },
     "execution_count": 4,
     "metadata": {},
     "output_type": "execute_result"
    }
   ],
   "source": [
    "columns_to_delete = ['id', 'cast', 'homepage', 'tagline', 'imdb_id', 'keywords', 'overview', 'release_date' ]\n",
    "\n",
    "df = df.drop(columns=columns_to_delete, axis = 1)\n",
    "df.head()"
   ]
  },
  {
   "cell_type": "markdown",
   "metadata": {},
   "source": [
    "> Here we use **.drop()** method to delete the columns which we don't need (Group1) by assigning them to the variable **columns_to_delete** then pass this variable as argument in the method , <br>\n",
    "also we wrote **axis = 1** that explains that these labels are in columns as **axis = 0** ====> **rows**"
   ]
  },
  {
   "cell_type": "code",
   "execution_count": 5,
   "metadata": {},
   "outputs": [
    {
     "data": {
      "text/plain": [
       "popularity                 0\n",
       "budget                     0\n",
       "revenue                    0\n",
       "original_title             0\n",
       "director                  44\n",
       "runtime                    0\n",
       "genres                    23\n",
       "production_companies    1030\n",
       "vote_count                 0\n",
       "vote_average               0\n",
       "release_year               0\n",
       "budget_adj                 0\n",
       "revenue_adj                0\n",
       "dtype: int64"
      ]
     },
     "execution_count": 5,
     "metadata": {},
     "output_type": "execute_result"
    }
   ],
   "source": [
    "df.isna().sum()"
   ]
  },
  {
   "cell_type": "markdown",
   "metadata": {},
   "source": [
    "> Here we use the 2 methods : <br>\n",
    ">1) **isna()** method to check if there is a nan value or not <br>\n",
    ">2) **.sum()** to get the sum of nan values in column"
   ]
  },
  {
   "cell_type": "code",
   "execution_count": 6,
   "metadata": {
    "scrolled": true
   },
   "outputs": [
    {
     "name": "stdout",
     "output_type": "stream",
     "text": [
      "<class 'pandas.core.frame.DataFrame'>\n",
      "RangeIndex: 10866 entries, 0 to 10865\n",
      "Data columns (total 13 columns):\n",
      "popularity              10866 non-null float64\n",
      "budget                  10866 non-null int64\n",
      "revenue                 10866 non-null int64\n",
      "original_title          10866 non-null object\n",
      "director                10866 non-null object\n",
      "runtime                 10866 non-null int64\n",
      "genres                  10866 non-null object\n",
      "production_companies    10866 non-null object\n",
      "vote_count              10866 non-null int64\n",
      "vote_average            10866 non-null float64\n",
      "release_year            10866 non-null int64\n",
      "budget_adj              10866 non-null float64\n",
      "revenue_adj             10866 non-null float64\n",
      "dtypes: float64(4), int64(5), object(4)\n",
      "memory usage: 1.1+ MB\n"
     ]
    }
   ],
   "source": [
    "df.fillna(0, inplace = True)\n",
    "df.info()"
   ]
  },
  {
   "cell_type": "markdown",
   "metadata": {},
   "source": [
    "> Here we use **fillna()** method to fill all the nan values by **0** and we wrote **inplace = True** to modify the main dataFrame <br>\n",
    "> Then we use **.info()** method to check if there are NANs or they are filled"
   ]
  },
  {
   "cell_type": "markdown",
   "metadata": {},
   "source": [
    "<a id='eda'></a>\n",
    "## Exploratory Data Analysis"
   ]
  },
  {
   "cell_type": "code",
   "execution_count": 27,
   "metadata": {},
   "outputs": [],
   "source": [
    "def grouping_data (df, column_1, column_2):\n",
    "    grouped_data = df.groupby(column_1)[column_2].sum().sort_values(ascending = False)\n",
    "    return grouped_data"
   ]
  },
  {
   "cell_type": "markdown",
   "metadata": {},
   "source": [
    "> Here we make a function is called **grouping_data** to split the dataFrame into specified groups and applying opeations on them then combine the results of the chosen columns **column_1** and **column_2** which we will assign their names from the dataset by using **.groupby()** method <br>\n",
    "\n",
    "> Also we used another methods like : <br>\n",
    ">>**.sum()** method to sum all values of the chosen columns <br>\n",
    ">>**.sort_values()** method to arrange the values , because of the ascendingly arrangement of this method , we wrote **ascending = False** between the () so we can know the arrangement descendingly <br>\n",
    ">> We assigned all of this to **grouped_data** variable <br>\n",
    "\n",
    ">> Then we use **return** to return the value of variable"
   ]
  },
  {
   "cell_type": "markdown",
   "metadata": {},
   "source": [
    "### Research Question 1 <br> (Who is the most successful director between (2000 : 2015) ?)"
   ]
  },
  {
   "cell_type": "code",
   "execution_count": 28,
   "metadata": {
    "scrolled": true
   },
   "outputs": [
    {
     "data": {
      "text/plain": [
       "director\n",
       "Peter Jackson                                                                                                                      6490593685\n",
       "Christopher Nolan                                                                                                                  4167548502\n",
       "David Yates                                                                                                                        4154295625\n",
       "Michael Bay                                                                                                                        3886938960\n",
       "Steven Spielberg                                                                                                                   3661994241\n",
       "J.J. Abrams                                                                                                                        3579169916\n",
       "Gore Verbinski                                                                                                                     3426362290\n",
       "Ridley Scott                                                                                                                       3329601581\n",
       "Francis Lawrence                                                                                                                   3179979588\n",
       "Sam Raimi                                                                                                                          3091066354\n",
       "Joss Whedon                                                                                                                        2963463144\n",
       "James Cameron                                                                                                                      2798546718\n",
       "Carlos Saldanha                                                                                                                    2532451792\n",
       "Tim Burton                                                                                                                         2493468396\n",
       "Sam Mendes                                                                                                                         2357252208\n",
       "Chris Columbus                                                                                                                     2354968952\n",
       "Shawn Levy                                                                                                                         2218587063\n",
       "Ron Howard                                                                                                                         2133257991\n",
       "Steven Soderbergh                                                                                                                  2078442996\n",
       "James Wan                                                                                                                          2064362186\n",
       "Roland Emmerich                                                                                                                    2000774750\n",
       "Clint Eastwood                                                                                                                     1967913347\n",
       "Justin Lin                                                                                                                         1953947074\n",
       "Bryan Singer                                                                                                                       1907293292\n",
       "M. Night Shyamalan                                                                                                                 1779548638\n",
       "Raja Gosnell                                                                                                                       1763570833\n",
       "Rob Marshall                                                                                                                       1757430581\n",
       "Bill Condon                                                                                                                        1734019747\n",
       "Todd Phillips                                                                                                                      1682393447\n",
       "Jon Favreau                                                                                                                        1673093892\n",
       "                                                                                                                                      ...    \n",
       "Joe Marino                                                                                                                                  0\n",
       "Joe Lynch                                                                                                                                   0\n",
       "Ryan Fleck                                                                                                                                  0\n",
       "Joe Cross|Kurt Engfehr                                                                                                                      0\n",
       "Joe Charbanic                                                                                                                               0\n",
       "Joe Chappelle                                                                                                                               0\n",
       "Ryan Fleck|Anna Boden                                                                                                                       0\n",
       "Joe Berlinger|Bruce Sinofsky                                                                                                                0\n",
       "Joel Bergvall|Simon Sandquist                                                                                                               0\n",
       "Rudy Bednar                                                                                                                                 0\n",
       "John Blanchard                                                                                                                              0\n",
       "Ruba Nadda                                                                                                                                  0\n",
       "John Baumgartner                                                                                                                            0\n",
       "John August                                                                                                                                 0\n",
       "John Asher                                                                                                                                  0\n",
       "John Alexander                                                                                                                              0\n",
       "Rowan Woods                                                                                                                                 0\n",
       "Johannes StjÃ¤rne Nilsson|Ola Simonsson                                                                                                     0\n",
       "Johannes Roberts                                                                                                                            0\n",
       "Johan Earl|Adrian Powers                                                                                                                    0\n",
       "Joey Stewart                                                                                                                                0\n",
       "Joey Kuhn                                                                                                                                   0\n",
       "Joey Ansah                                                                                                                                  0\n",
       "Rowdy Herrington                                                                                                                            0\n",
       "Joel Viertel                                                                                                                                0\n",
       "Joel Soisson                                                                                                                                0\n",
       "Roxanne Benjamin|David Bruckner|Patrick Horvath|Chad Villella|Matt Bettinelli-Olpin|Tyler Gillett|Justin Martinez|Radio Silence             0\n",
       "Roy Burdine|Lloyd Goldfine                                                                                                                  0\n",
       "Ruairi Robinson                                                                                                                             0\n",
       "Jonathon Narducci                                                                                                                           0\n",
       "Name: revenue, Length: 4101, dtype: int64"
      ]
     },
     "execution_count": 28,
     "metadata": {},
     "output_type": "execute_result"
    }
   ],
   "source": [
    "year_range = df[(df['release_year'] >= 2000) & ((df['release_year'] <= 2015))] \n",
    "grouping_data (year_range, 'director', 'revenue')"
   ]
  },
  {
   "cell_type": "code",
   "execution_count": 21,
   "metadata": {
    "scrolled": true
   },
   "outputs": [
    {
     "data": {
      "text/plain": [
       "Text(0.5,1,'Relation between director & revenue')"
      ]
     },
     "execution_count": 21,
     "metadata": {},
     "output_type": "execute_result"
    },
    {
     "data": {
      "image/png": "[encoded data removed]",
      "text/plain": [
       "<matplotlib.figure.Figure at 0x7f1026fdfa90>"
      ]
     },
     "metadata": {
      "needs_background": "light"
     },
     "output_type": "display_data"
    }
   ],
   "source": [
    "year_range.groupby('director')['revenue'].sum().sort_values(ascending = False).hist()\n",
    "plt.xlabel(\"director\")\n",
    "plt.ylabel(\"revenue\")\n",
    "plt.title(\"Relation between director & revenue\")"
   ]
  },
  {
   "cell_type": "markdown",
   "metadata": {},
   "source": [
    "> Here we use 2 lines of coding to answer the first question , let's clarify them : \n",
    "\n",
    ">**Line 1 :** we called the column **\"release_year\"** but with conditions and **\"&\"** which works only when the 2 conditions happened then we assign all of this to the variable **\"year_range\"**\n",
    "\n",
    ">**Line 2 :** we used the function , let's clarify what happened: <br> \n",
    "1)**.groupby()** method to split the dataFrame into specified groups and applying opeations on them then combine the results of the chosen columns **revenue** and **director** in this case <br>\n",
    "2)**.sum()** method to sum all values of the chosen columns <br>\n",
    "3)**.sort_values()** method to arrange the values , because of the ascendingly arrangement of this method , we wrote **ascending = False** between the () so we can know the most successful director by knowing the highest revenue\n",
    "\n",
    "> From all above , we concluded that the most successful director between 2000 & 2015 is **Peter Jackson**\n",
    "\n",
    "> Here we can say that **Research Question 1** is **done**"
   ]
  },
  {
   "cell_type": "markdown",
   "metadata": {},
   "source": [
    "### Research Question 2  (What is the most prefered genre over the years ?)"
   ]
  },
  {
   "cell_type": "code",
   "execution_count": 30,
   "metadata": {
    "scrolled": true
   },
   "outputs": [
    {
     "data": {
      "text/plain": [
       "genres\n",
       "Comedy                                            375.247922\n",
       "Drama                                             361.127929\n",
       "Drama|Romance                                     161.440368\n",
       "Comedy|Romance                                    159.129492\n",
       "Comedy|Drama                                      134.092834\n",
       "Horror|Thriller                                   128.083537\n",
       "Comedy|Drama|Romance                              125.524195\n",
       "Horror                                             93.533052\n",
       "Action|Thriller                                    88.709717\n",
       "Animation|Family                                   79.820459\n",
       "Action|Adventure|Science Fiction|Thriller          67.541272\n",
       "Drama|Thriller                                     65.957982\n",
       "Crime|Drama|Thriller                               59.885993\n",
       "Adventure|Fantasy|Action                           57.045550\n",
       "Documentary                                        56.846366\n",
       "Action|Adventure|Science Fiction                   56.805422\n",
       "Thriller                                           53.701746\n",
       "Action|Crime|Thriller                              52.882616\n",
       "Drama|Crime                                        51.970244\n",
       "Drama|Comedy                                       48.668949\n",
       "Comedy|Family                                      48.310465\n",
       "Adventure|Action|Thriller                          47.419020\n",
       "Animation|Comedy|Family                            46.252405\n",
       "Adventure|Fantasy|Family                           42.190055\n",
       "Adventure|Action|Science Fiction                   40.231896\n",
       "Action|Crime|Drama|Thriller                        39.464289\n",
       "Drama|Comedy|Romance                               38.254768\n",
       "Action|Science Fiction                             37.813984\n",
       "Crime|Drama                                        37.290863\n",
       "Action                                             37.269991\n",
       "                                                     ...    \n",
       "Thriller|TV Movie|Science Fiction|Drama             0.031635\n",
       "Fantasy|Drama|Science Fiction|Family                0.030986\n",
       "Crime|Drama|Romance|Foreign                         0.029699\n",
       "Drama|Science Fiction|TV Movie                      0.028695\n",
       "Comedy|Thriller|Crime|Romance                       0.028143\n",
       "Animation|Fantasy|Mystery                           0.027045\n",
       "Adventure|Drama|Action|Comedy|Romance               0.026783\n",
       "Horror|Comedy|Drama                                 0.025288\n",
       "Foreign|Romance|Thriller                            0.023254\n",
       "Science Fiction|Mystery|Horror|Thriller             0.023026\n",
       "Drama|Fantasy|Horror|Thriller|Mystery               0.021863\n",
       "Mystery|Drama|Fantasy                               0.021498\n",
       "Action|Adventure|Comedy|Crime|Foreign               0.021222\n",
       "Drama|Family|Fantasy|TV Movie                       0.019669\n",
       "Fantasy|Animation|Comedy|Drama                      0.019197\n",
       "Action|Adventure|Comedy|Family|Thriller             0.018196\n",
       "Documentary|Drama|Comedy                            0.017036\n",
       "Foreign                                             0.015074\n",
       "Comedy|Documentary|Foreign                          0.013131\n",
       "Drama|Foreign|Romance|Thriller                      0.012170\n",
       "Horror|Documentary|Mystery                          0.011798\n",
       "Comedy|Documentary|Drama                            0.010185\n",
       "Documentary|Thriller                                0.007622\n",
       "Comedy|Science Fiction|Music                        0.006708\n",
       "Drama|Horror|Thriller|Science Fiction|Foreign       0.004770\n",
       "Documentary|Drama|Foreign                           0.004590\n",
       "Horror|Mystery|Thriller|Crime                       0.002381\n",
       "Drama|Thriller|Science Fiction|Romance|Foreign      0.001983\n",
       "Crime|Drama|History|Documentary                     0.001372\n",
       "Mystery|Comedy|Drama                                0.000188\n",
       "Name: popularity, Length: 2040, dtype: float64"
      ]
     },
     "execution_count": 30,
     "metadata": {},
     "output_type": "execute_result"
    }
   ],
   "source": [
    "grouping_data (df, 'genres', 'popularity')"
   ]
  },
  {
   "cell_type": "code",
   "execution_count": 22,
   "metadata": {},
   "outputs": [
    {
     "data": {
      "text/plain": [
       "Text(0.5,1,'Relation between genres & their popularity')"
      ]
     },
     "execution_count": 22,
     "metadata": {},
     "output_type": "execute_result"
    },
    {
     "data": {
      "image/png": "[encoded data removed]",
      "text/plain": [
       "<matplotlib.figure.Figure at 0x7f1026f54908>"
      ]
     },
     "metadata": {
      "needs_background": "light"
     },
     "output_type": "display_data"
    }
   ],
   "source": [
    "df.groupby('genres')['popularity'].sum().sort_values(ascending = False).hist()\n",
    "plt.xlabel(\"genres\")\n",
    "plt.ylabel(\"popularity\")\n",
    "plt.title(\"Relation between genres & their popularity\")"
   ]
  },
  {
   "cell_type": "markdown",
   "metadata": {},
   "source": [
    "> Here we know the most prefered genre over the years  which is **Comedy** <br>\n",
    "> Also we used the same lines of code that we used in the first question but the difference is in the columns as we grouped by the column **genres** with the column **popularity** to know which genre has the most voting so it will be the most prefered <br>\n",
    "> > Here we can say that **Research Question 2** is **done**"
   ]
  },
  {
   "cell_type": "markdown",
   "metadata": {},
   "source": [
    "### Research Question 3 (Which production companies have produced the most movies?)"
   ]
  },
  {
   "cell_type": "code",
   "execution_count": 11,
   "metadata": {
    "scrolled": true
   },
   "outputs": [
    {
     "data": {
      "text/plain": [
       "1030"
      ]
     },
     "execution_count": 11,
     "metadata": {},
     "output_type": "execute_result"
    }
   ],
   "source": [
    "df[\"production_companies\"].value_counts().max()"
   ]
  },
  {
   "cell_type": "code",
   "execution_count": 23,
   "metadata": {},
   "outputs": [
    {
     "data": {
      "text/plain": [
       "Text(0.5,1,'Relation between production companies & the no of films they produced')"
      ]
     },
     "execution_count": 23,
     "metadata": {},
     "output_type": "execute_result"
    },
    {
     "data": {
      "image/png": "[encoded data removed]",
      "text/plain": [
       "<matplotlib.figure.Figure at 0x7f1026fa5588>"
      ]
     },
     "metadata": {
      "needs_background": "light"
     },
     "output_type": "display_data"
    }
   ],
   "source": [
    "df[\"production_companies\"].value_counts().head(10).plot(kind = 'box')\n",
    "plt.ylabel(\"number of films produced\")\n",
    "plt.title(\"Relation between production companies & the no of films they produced\")"
   ]
  },
  {
   "cell_type": "markdown",
   "metadata": {},
   "source": [
    "> Here we use **.value_counts()** & **.max()** methods with the column **\"production_companies\"** to know the most common name for the companies which produced most of films which is **Paramount Pictures** company <br>\n",
    ">> Here we can say that **Research Question 3** is **done**"
   ]
  },
  {
   "cell_type": "markdown",
   "metadata": {},
   "source": [
    "### Research Question 4 (Is there a correlation between budget and revenue ?)"
   ]
  },
  {
   "cell_type": "code",
   "execution_count": 13,
   "metadata": {},
   "outputs": [
    {
     "data": {
      "text/plain": [
       "0.73490068190761149"
      ]
     },
     "execution_count": 13,
     "metadata": {},
     "output_type": "execute_result"
    }
   ],
   "source": [
    "correlation_columns = df[\"budget\"].corr(df[\"revenue\"])\n",
    "correlation_columns"
   ]
  },
  {
   "cell_type": "code",
   "execution_count": 24,
   "metadata": {
    "scrolled": true
   },
   "outputs": [
    {
     "data": {
      "text/plain": [
       "Text(0.5,1,'Relation between budget & revenue')"
      ]
     },
     "execution_count": 24,
     "metadata": {},
     "output_type": "execute_result"
    },
    {
     "data": {
      "image/png": "[encoded data removed]",
      "text/plain": [
       "<matplotlib.figure.Figure at 0x7f10272384a8>"
      ]
     },
     "metadata": {
      "needs_background": "light"
     },
     "output_type": "display_data"
    }
   ],
   "source": [
    "plt.scatter(df[\"budget\"], df[\"revenue\"], alpha = 0.4, color = 'green')\n",
    "plt.xlabel(\"budget\")\n",
    "plt.ylabel(\"revenue\")\n",
    "plt.title(\"Relation between budget & revenue\")"
   ]
  },
  {
   "cell_type": "markdown",
   "metadata": {},
   "source": [
    "> In the first cell we used **.corr()** method with the column **budget** to get the correlation between it and the column **revenue** and we found it high positive correlation <br>\n",
    "\n",
    ">> Here we can say that **Research Question 4** is **done**"
   ]
  },
  {
   "cell_type": "markdown",
   "metadata": {},
   "source": [
    "### Research Question 5  (Which film is the most successful ?)"
   ]
  },
  {
   "cell_type": "code",
   "execution_count": 31,
   "metadata": {
    "scrolled": true
   },
   "outputs": [
    {
     "data": {
      "text/plain": [
       "original_title\n",
       "Jurassic World                                       32.985763\n",
       "Mad Max: Fury Road                                   28.419936\n",
       "Interstellar                                         24.949134\n",
       "Guardians of the Galaxy                              14.311205\n",
       "Insurgent                                            13.112507\n",
       "Captain America: The Winter Soldier                  12.971027\n",
       "Star Wars                                            12.037933\n",
       "John Wick                                            11.422751\n",
       "Star Wars: The Force Awakens                         11.173104\n",
       "The Hunger Games: Mockingjay - Part 1                10.739009\n",
       "The Hobbit: The Battle of the Five Armies            10.174599\n",
       "Avatar                                                9.432768\n",
       "The Revenant                                          9.421300\n",
       "Inception                                             9.363643\n",
       "Furious 7                                             9.335014\n",
       "Fight Club                                            8.947905\n",
       "Big Hero 6                                            8.691294\n",
       "Terminator Genisys                                    8.654359\n",
       "The Lord of the Rings: The Fellowship of the Ring     8.575419\n",
       "The Dark Knight                                       8.466668\n",
       "Underworld: Endless War                               8.411577\n",
       "Drive                                                 8.310619\n",
       "The Avengers                                          8.176900\n",
       "The Imitation Game                                    8.110711\n",
       "The Lord of the Rings: The Two Towers                 8.095275\n",
       "Pulp Fiction                                          8.093754\n",
       "Harry Potter and the Philosopher's Stone              8.021423\n",
       "Captain America: The First Avenger                    7.959228\n",
       "The Matrix                                            7.753899\n",
       "The Martian                                           7.667400\n",
       "                                                       ...    \n",
       "Bambi Meets Godzilla                                  0.002757\n",
       "Atlantic Rim                                          0.002648\n",
       "Trophy Kids                                           0.002647\n",
       "Do I Sound Gay?                                       0.002599\n",
       "How to Be                                             0.002514\n",
       "Foo Fighters: Live at Wembley Stadium                 0.002475\n",
       "Talhotblond                                           0.002460\n",
       "Emmet Otter's Jug-Band Christmas                      0.002457\n",
       "The Town That Dreaded Sundown                         0.002381\n",
       "The Pregnancy Project                                 0.002262\n",
       "The Sound of Music Live!                              0.002165\n",
       "Acqua e sapone                                        0.002120\n",
       "Steve Jobs: One Last Thing                            0.002006\n",
       "Paheli                                                0.001983\n",
       "The Central Park Five                                 0.001783\n",
       "Wizards On Deck With Hannah Montana                   0.001682\n",
       "Freddie Mercury: The Great Pretender                  0.001635\n",
       "Yuppies 2                                             0.001567\n",
       "Long Way Round                                        0.001531\n",
       "Circle of Eight                                       0.001423\n",
       "The Invisible War                                     0.001372\n",
       "Slashers                                              0.001349\n",
       "Fuera de carta                                        0.001317\n",
       "SoupÃ§ons                                             0.001315\n",
       "Born into Brothels                                    0.001117\n",
       "Khosla Ka Ghosla!                                     0.001115\n",
       "Mon petit doigt m'a dit...                            0.000973\n",
       "G.B.F.                                                0.000620\n",
       "The Hospital                                          0.000188\n",
       "North and South, Book I                               0.000065\n",
       "Name: popularity, Length: 10571, dtype: float64"
      ]
     },
     "execution_count": 31,
     "metadata": {},
     "output_type": "execute_result"
    }
   ],
   "source": [
    "grouping_data (df, 'original_title', 'popularity')"
   ]
  },
  {
   "cell_type": "markdown",
   "metadata": {},
   "source": [
    "> Here we used the function , let's clarify what hapenned : <br> \n",
    "1)**.groupby()** method to split the dataFrame into specified groups and applying opeations on them then combine the results of the chosen columns **original_title** and **popularity** in this case <br>\n",
    "2)**.sum()** method to sum all values of the chosen columns <br>\n",
    "3)**.sort_values()** method to arrange the values , because of the ascendingly arrangement of this method , we wrote **ascending = False** between the () so we can know the most successful director by knowing the highest revenue\n",
    "\n",
    "> From all above , we concluded that the most successful film is **Jurassic World**\n",
    "\n",
    "> Here we can say that **Research Question 5** is **done**"
   ]
  },
  {
   "cell_type": "markdown",
   "metadata": {},
   "source": [
    "<a id='conclusions'></a>\n",
    "## Conclusions\n",
    ">Let's sum up all the project:<br>\n",
    "##### Step 1 :\n",
    "> Collecting general informations & characteristics about the data set:<br>\n",
    "> by using some methods like : <br>\n",
    ">> **.head()** to know the content of the dataset <br>\n",
    ">> **.describe()** to know some statisitcs infornations about the dataset like \" **std, max, min, ...etc** <br>\n",
    ">> **shape()** to know the dimensions of the dataset **rows = 10866* and **columns = 21** so we can know that the total elements is **228,186** so because of this large number we shoud take the second step <br>\n",
    "##### Step 2 :\n",
    "> Wrangling data: <br>\n",
    ">1) Deleting columns: <br>\n",
    ">> We delete the unused columns by **.drop()** method so we can reduce data <br>\n",
    "\n",
    "\n",
    ">2) Finding NaNs (missing values): <br>\n",
    ">> by using **.info()** method to know the types of elements and total elements in each column then we use **.isna().sum()** to know total NaNs in each column <br>\n",
    "\n",
    ">3) Modifying NaNs: <br>\n",
    ">> by using **fillna()** method so we fill them by value **0**\n",
    "\n",
    "##### Step 3 :\n",
    "> Answering questions : <br>\n",
    ">> by using **.groupby()** mainly in this phase to combine specified column values and also by other some methods like **.sort()** to arrange values and **.max()** to get the highest values <br>\n",
    "\n",
    "> Communication : <br>\n",
    "> to represents some columns or questions in visualizations using: <br>\n",
    ">>**.plot()** to draw graphs , **.xlabel()** to give name to x-axis \n",
    ">>**.ylabel()** to give name to y-axis \n",
    ">>**.title()** to give name to the visual and its purpose\n",
    "\n",
    "> From all above , we can answer the questions by the following answers : <br>\n",
    "\n",
    ">====> Who is the most successful director between (2000 : 2015) ? **Peter Jackson** <br>\n",
    "\n",
    ">.====> What is the most prefered genre over the years ? **Comedy**\n",
    "\n",
    ">.====> Which production companies have produced the most movies? **Paramount Pictures **\n",
    "\n",
    ">.====> Is there a correlation between budget and revenue ? **Yes , high positive correlation** , which means by **increasing** the budget , the **revenue** increases \n",
    "\n",
    ">.====> Which film is the most successful ? **Jurassic World**\n",
    "\n",
    "## Here we finished our project , hope it is well , thanks!!"
   ]
  },
  {
   "cell_type": "code",
   "execution_count": 32,
   "metadata": {},
   "outputs": [
    {
     "data": {
      "text/plain": [
       "0"
      ]
     },
     "execution_count": 32,
     "metadata": {},
     "output_type": "execute_result"
    }
   ],
   "source": [
    "from subprocess import call\n",
    "call(['python', '-m', 'nbconvert', 'Investigate_a_Dataset.ipynb'])"
   ]
  }
 ],
 "metadata": {
  "kernelspec": {
   "display_name": "Python 3",
   "language": "python",
   "name": "python3"
  },
  "language_info": {
   "codemirror_mode": {
    "name": "ipython",
    "version": 3
   },
   "file_extension": ".py",
   "mimetype": "text/x-python",
   "name": "python",
   "nbconvert_exporter": "python",
   "pygments_lexer": "ipython3",
   "version": "3.6.3"
  }
 },
 "nbformat": 4,
 "nbformat_minor": 2
}
